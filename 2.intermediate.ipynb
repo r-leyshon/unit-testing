{
 "cells": [
  {
   "attachments": {},
   "cell_type": "markdown",
   "metadata": {},
   "source": [
    "# Intermediate Unit Testing with Pytest\n",
    "\n",
    "This chapter starts with some useful points about assertions.\n",
    "\n",
    "The `assert` statement takes 2 arguments, the first is the comparison, the\n",
    "second is an optional message. Use this to include some helpful messages to\n",
    "the pytest test report **if a unit test fails**."
   ]
  },
  {
   "cell_type": "code",
   "execution_count": 1,
   "metadata": {},
   "outputs": [],
   "source": [
    "import pytest"
   ]
  },
  {
   "cell_type": "code",
   "execution_count": 2,
   "metadata": {},
   "outputs": [],
   "source": [
    "assert \"foo\" == \"foo\", \"Correct assertion, message is silent\""
   ]
  },
  {
   "cell_type": "code",
   "execution_count": 3,
   "metadata": {},
   "outputs": [
    {
     "ename": "AssertionError",
     "evalue": "Incorrect assertion, foo is not bar.",
     "output_type": "error",
     "traceback": [
      "\u001b[0;31m---------------------------------------------------------------------------\u001b[0m",
      "\u001b[0;31mAssertionError\u001b[0m                            Traceback (most recent call last)",
      "Cell \u001b[0;32mIn[3], line 1\u001b[0m\n\u001b[0;32m----> 1\u001b[0m \u001b[39massert\u001b[39;00m \u001b[39m\"\u001b[39m\u001b[39mfoo\u001b[39m\u001b[39m\"\u001b[39m \u001b[39m==\u001b[39m \u001b[39m\"\u001b[39m\u001b[39mbar\u001b[39m\u001b[39m\"\u001b[39m, \u001b[39m\"\u001b[39m\u001b[39mIncorrect assertion, foo is not bar.\u001b[39m\u001b[39m\"\u001b[39m\n",
      "\u001b[0;31mAssertionError\u001b[0m: Incorrect assertion, foo is not bar."
     ]
    }
   ],
   "source": [
    "assert \"foo\" == \"bar\", \"Incorrect assertion, foo is not bar.\""
   ]
  },
  {
   "attachments": {},
   "cell_type": "markdown",
   "metadata": {},
   "source": [
    "Also, be careful with integers specifically. Behind the scenes, the integers can be\n",
    "represented different to how they appear. To overcome this, use the `pytest.approx()` to\n",
    "wrap the floats."
   ]
  },
  {
   "cell_type": "code",
   "execution_count": 17,
   "metadata": {},
   "outputs": [
    {
     "ename": "AssertionError",
     "evalue": "For floats, ensure you wrap in `pytest.approx()`",
     "output_type": "error",
     "traceback": [
      "\u001b[0;31m---------------------------------------------------------------------------\u001b[0m",
      "\u001b[0;31mAssertionError\u001b[0m                            Traceback (most recent call last)",
      "Cell \u001b[0;32mIn[17], line 1\u001b[0m\n\u001b[0;32m----> 1\u001b[0m \u001b[39massert\u001b[39;00m \u001b[39m0.2\u001b[39m \u001b[39m+\u001b[39m \u001b[39m0.2\u001b[39m \u001b[39m+\u001b[39m \u001b[39m0.2\u001b[39m  \u001b[39m==\u001b[39m \u001b[39m0.6\u001b[39m, \u001b[39m\"\u001b[39m\u001b[39mFor floats, ensure you wrap in `pytest.approx()`\u001b[39m\u001b[39m\"\u001b[39m\n",
      "\u001b[0;31mAssertionError\u001b[0m: For floats, ensure you wrap in `pytest.approx()`"
     ]
    }
   ],
   "source": [
    "assert 0.2 + 0.2 + 0.2  == 0.6, \"For floats, ensure you wrap in `pytest.approx()`\""
   ]
  },
  {
   "cell_type": "code",
   "execution_count": 18,
   "metadata": {},
   "outputs": [],
   "source": [
    "assert 0.2 + 0.2 + 0.2 == pytest.approx(0.6), \"No error as random noise ignored.\""
   ]
  },
  {
   "cell_type": "markdown",
   "metadata": {},
   "source": []
  }
 ],
 "metadata": {
  "kernelspec": {
   "display_name": "unit-testing",
   "language": "python",
   "name": "python3"
  },
  "language_info": {
   "codemirror_mode": {
    "name": "ipython",
    "version": 3
   },
   "file_extension": ".py",
   "mimetype": "text/x-python",
   "name": "python",
   "nbconvert_exporter": "python",
   "pygments_lexer": "ipython3",
   "version": "3.10.9"
  },
  "orig_nbformat": 4
 },
 "nbformat": 4,
 "nbformat_minor": 2
}
