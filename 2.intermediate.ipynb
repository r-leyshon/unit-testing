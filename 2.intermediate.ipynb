{
 "cells": [
  {
   "attachments": {},
   "cell_type": "markdown",
   "metadata": {},
   "source": [
    "# Intermediate Unit Testing with Pytest\n",
    "\n",
    "## Assertions\n",
    "\n",
    "This chapter starts with some useful points about assertions.\n",
    "\n",
    "The `assert` statement takes 2 arguments, the first is the comparison, the\n",
    "second is an optional message. Use this to include some helpful messages to\n",
    "the pytest test report **if a unit test fails**."
   ]
  },
  {
   "cell_type": "code",
   "execution_count": 1,
   "metadata": {},
   "outputs": [],
   "source": [
    "import pytest"
   ]
  },
  {
   "cell_type": "code",
   "execution_count": 2,
   "metadata": {},
   "outputs": [],
   "source": [
    "assert \"foo\" == \"foo\", \"Correct assertion, message is silent\""
   ]
  },
  {
   "cell_type": "code",
   "execution_count": 3,
   "metadata": {},
   "outputs": [
    {
     "ename": "AssertionError",
     "evalue": "Incorrect assertion, foo is not bar.",
     "output_type": "error",
     "traceback": [
      "\u001b[0;31m---------------------------------------------------------------------------\u001b[0m",
      "\u001b[0;31mAssertionError\u001b[0m                            Traceback (most recent call last)",
      "Cell \u001b[0;32mIn[3], line 1\u001b[0m\n\u001b[0;32m----> 1\u001b[0m \u001b[39massert\u001b[39;00m \u001b[39m\"\u001b[39m\u001b[39mfoo\u001b[39m\u001b[39m\"\u001b[39m \u001b[39m==\u001b[39m \u001b[39m\"\u001b[39m\u001b[39mbar\u001b[39m\u001b[39m\"\u001b[39m, \u001b[39m\"\u001b[39m\u001b[39mIncorrect assertion, foo is not bar.\u001b[39m\u001b[39m\"\u001b[39m\n",
      "\u001b[0;31mAssertionError\u001b[0m: Incorrect assertion, foo is not bar."
     ]
    }
   ],
   "source": [
    "assert \"foo\" == \"bar\", \"Incorrect assertion, foo is not bar.\""
   ]
  },
  {
   "attachments": {},
   "cell_type": "markdown",
   "metadata": {},
   "source": [
    "Also, be careful with integers specifically. Behind the scenes, the integers can be\n",
    "represented different to how they appear. To overcome this, use the `pytest.approx()` to\n",
    "wrap the floats."
   ]
  },
  {
   "cell_type": "code",
   "execution_count": 17,
   "metadata": {},
   "outputs": [
    {
     "ename": "AssertionError",
     "evalue": "For floats, ensure you wrap in `pytest.approx()`",
     "output_type": "error",
     "traceback": [
      "\u001b[0;31m---------------------------------------------------------------------------\u001b[0m",
      "\u001b[0;31mAssertionError\u001b[0m                            Traceback (most recent call last)",
      "Cell \u001b[0;32mIn[17], line 1\u001b[0m\n\u001b[0;32m----> 1\u001b[0m \u001b[39massert\u001b[39;00m \u001b[39m0.2\u001b[39m \u001b[39m+\u001b[39m \u001b[39m0.2\u001b[39m \u001b[39m+\u001b[39m \u001b[39m0.2\u001b[39m  \u001b[39m==\u001b[39m \u001b[39m0.6\u001b[39m, \u001b[39m\"\u001b[39m\u001b[39mFor floats, ensure you wrap in `pytest.approx()`\u001b[39m\u001b[39m\"\u001b[39m\n",
      "\u001b[0;31mAssertionError\u001b[0m: For floats, ensure you wrap in `pytest.approx()`"
     ]
    }
   ],
   "source": [
    "assert 0.2 + 0.2 + 0.2  == 0.6, \"For floats, ensure you wrap in `pytest.approx()`\""
   ]
  },
  {
   "cell_type": "code",
   "execution_count": 18,
   "metadata": {},
   "outputs": [],
   "source": [
    "assert 0.2 + 0.2 + 0.2 == pytest.approx(0.6), \"No error as random noise ignored.\""
   ]
  },
  {
   "attachments": {},
   "cell_type": "markdown",
   "metadata": {},
   "source": [
    "***\n",
    "\n",
    "## Testing Errors\n",
    "\n",
    "This course introduces an alternative way of matching error messages. Let's compare the\n",
    "available methods."
   ]
  },
  {
   "cell_type": "code",
   "execution_count": 19,
   "metadata": {},
   "outputs": [],
   "source": [
    "def i_want_string(string):\n",
    "    if isinstance(string, str):\n",
    "        pass\n",
    "    else:\n",
    "        raise TypeError(\"That's not a string!\")\n"
   ]
  },
  {
   "cell_type": "code",
   "execution_count": 23,
   "metadata": {},
   "outputs": [],
   "source": [
    "# The well-trodden route:\n",
    "def test_str_exception_int():\n",
    "    with pytest.raises(TypeError, match=\"That's not a string!\"):\n",
    "        i_want_string(1)"
   ]
  },
  {
   "cell_type": "code",
   "execution_count": 24,
   "metadata": {},
   "outputs": [],
   "source": [
    "# Alternatively\n",
    "def test_str_exception_bool():\n",
    "    with pytest.raises(TypeError) as exc:\n",
    "        i_want_string(False)\n",
    "    assert i_want_string.match(\"That's not a string!\")"
   ]
  },
  {
   "attachments": {},
   "cell_type": "markdown",
   "metadata": {},
   "source": [
    "I probably prefer to use the method the course suggest as there is a clear\n",
    "assertion made.\n",
    "\n",
    "## How Many Tests\n",
    "\n",
    "The course introduces 3 categories of argument values to test for:\n",
    "\n",
    "* Normal arguments - return as expected. Test 2 - 3 of these values.\n",
    "* Boundary arguments - bookend acceptable value ranges.\n",
    "* Special arguments - specific values that have been handled. "
   ]
  },
  {
   "cell_type": "code",
   "execution_count": 28,
   "metadata": {},
   "outputs": [],
   "source": [
    "def num_to_pH(num):\n",
    "    \"\"\"Describes the property of a pH\"\"\"\n",
    "    # lets always deal with floats\n",
    "    if isinstance(num, int):\n",
    "        num = float(num)\n",
    "    elif not isinstance(num, float):\n",
    "        raise ValueError(\"`num` must be an integer or float.\")\n",
    "    # neutral\n",
    "    if num == 7.0:\n",
    "        return \"neutral\"\n",
    "    elif num >= 0.0 and num < 7.0:\n",
    "        return \"acid\"\n",
    "    elif num > 7.0 and num <= 14.0:\n",
    "        return \"alkali\"\n",
    "    else:\n",
    "        return None"
   ]
  },
  {
   "cell_type": "code",
   "execution_count": 49,
   "metadata": {},
   "outputs": [],
   "source": [
    "# Test normal values, 2 - 3\n",
    "def test_normal_return_args():\n",
    "    assert num_to_pH(1) == \"acid\"\n",
    "    assert num_to_pH(14) == \"alkali\"\n",
    "\n",
    "\n",
    "def test_special_args():\n",
    "    assert num_to_pH(7.0) == \"neutral\"\n",
    "\n",
    "\n",
    "def test_boundary_args():\n",
    "    assert num_to_pH(-1) is None\n",
    "    assert num_to_pH(14.1) is None\n"
   ]
  },
  {
   "cell_type": "code",
   "execution_count": 51,
   "metadata": {},
   "outputs": [],
   "source": [
    "test_normal_return_args()\n",
    "test_special_args()\n",
    "test_boundary_args()\n",
    "# all silent andfunc is well tested."
   ]
  },
  {
   "cell_type": "markdown",
   "metadata": {},
   "source": []
  }
 ],
 "metadata": {
  "kernelspec": {
   "display_name": "unit-testing",
   "language": "python",
   "name": "python3"
  },
  "language_info": {
   "codemirror_mode": {
    "name": "ipython",
    "version": 3
   },
   "file_extension": ".py",
   "mimetype": "text/x-python",
   "name": "python",
   "nbconvert_exporter": "python",
   "pygments_lexer": "ipython3",
   "version": "3.10.9"
  },
  "orig_nbformat": 4
 },
 "nbformat": 4,
 "nbformat_minor": 2
}
