{
 "cells": [
  {
   "attachments": {},
   "cell_type": "markdown",
   "metadata": {},
   "source": [
    "# Advanced Pytest\n",
    "\n",
    "## Pytest Fixtures\n",
    "\n",
    "Fixtures are a good idea for 2 main reasons:\n",
    "\n",
    "1. They keep dependencies separate to the tests.\n",
    "2. They encourage the reuse of fixtures for functions with similar requirements.\n",
    "\n",
    "Each fixture should be designed with 3 stages in mind:\n",
    "\n",
    "1. setup\n",
    "2. assert\n",
    "3. teardown"
   ]
  },
  {
   "cell_type": "code",
   "execution_count": 19,
   "metadata": {},
   "outputs": [],
   "source": [
    "import pytest\n",
    "import os"
   ]
  },
  {
   "cell_type": "code",
   "execution_count": 20,
   "metadata": {},
   "outputs": [],
   "source": [
    "def goodie(csv):\n",
    "    with open(csv, \"r\") as f:\n",
    "        txt = f.read()\n",
    "        f.close()\n",
    "    lines = txt.splitext()\n",
    "    lines = [l for l in lines if \"good\" in l]\n",
    "    return lines"
   ]
  },
  {
   "cell_type": "code",
   "execution_count": 27,
   "metadata": {},
   "outputs": [],
   "source": [
    "@pytest.fixture\n",
    "def super_file(tmpdir):\n",
    "    # setup\n",
    "    contents = \"\"\"name,polarity,\\nspiderman,good,\\nvenom,bad\"\"\"\n",
    "    # append the filepth with the tempdir ref\n",
    "    pth = tmpdir.join(\"superheroes.csv\")\n",
    "    with open(pth, \"w\") as f:\n",
    "        f.write(contents)\n",
    "        f.close()\n",
    "    # pytest no longer supports use of yield as shown in course\n",
    "    return pth\n",
    "    # tmpdir will handle the teardown phase"
   ]
  },
  {
   "cell_type": "code",
   "execution_count": 30,
   "metadata": {},
   "outputs": [],
   "source": [
    "def test_goodie(super_file):\n",
    "    expected = \"spiderman,good\"\n",
    "    found = goodie(super_file)\n",
    "    assert found == expected"
   ]
  },
  {
   "cell_type": "code",
   "execution_count": null,
   "metadata": {},
   "outputs": [],
   "source": []
  }
 ],
 "metadata": {
  "kernelspec": {
   "display_name": "unit-testing",
   "language": "python",
   "name": "python3"
  },
  "language_info": {
   "codemirror_mode": {
    "name": "ipython",
    "version": 3
   },
   "file_extension": ".py",
   "mimetype": "text/x-python",
   "name": "python",
   "nbconvert_exporter": "python",
   "pygments_lexer": "ipython3",
   "version": "3.10.9"
  },
  "orig_nbformat": 4
 },
 "nbformat": 4,
 "nbformat_minor": 2
}
