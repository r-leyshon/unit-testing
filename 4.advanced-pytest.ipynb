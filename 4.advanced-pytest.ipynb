{
 "cells": [
  {
   "attachments": {},
   "cell_type": "markdown",
   "metadata": {},
   "source": [
    "# Advanced Pytest\n",
    "\n",
    "## Pytest Fixtures\n",
    "\n",
    "Fixtures are a good idea for 2 main reasons:\n",
    "\n",
    "1. They keep dependencies separate to the tests.\n",
    "2. They encourage the reuse of fixtures for functions with similar requirements.\n",
    "\n",
    "Each fixture should be designed with 3 stages in mind:\n",
    "\n",
    "1. setup\n",
    "2. assert\n",
    "3. teardown"
   ]
  },
  {
   "cell_type": "code",
   "execution_count": 44,
   "metadata": {},
   "outputs": [],
   "source": [
    "import pytest\n",
    "import os\n",
    "from unittest.mock import call\n"
   ]
  },
  {
   "cell_type": "code",
   "execution_count": 20,
   "metadata": {},
   "outputs": [],
   "source": [
    "def goodie(csv):\n",
    "    with open(csv, \"r\") as f:\n",
    "        txt = f.read()\n",
    "        f.close()\n",
    "    lines = txt.splitext()\n",
    "    lines = [l for l in lines if \"good\" in l]\n",
    "    return lines"
   ]
  },
  {
   "cell_type": "code",
   "execution_count": 27,
   "metadata": {},
   "outputs": [],
   "source": [
    "@pytest.fixture\n",
    "def super_file(tmpdir):\n",
    "    # setup\n",
    "    contents = \"\"\"name,polarity,\\nspiderman,good,\\nvenom,bad\"\"\"\n",
    "    # append the filepth with the tempdir ref\n",
    "    pth = tmpdir.join(\"superheroes.csv\")\n",
    "    with open(pth, \"w\") as f:\n",
    "        f.write(contents)\n",
    "        f.close()\n",
    "    # pytest no longer supports use of yield as shown in course\n",
    "    yield pth\n",
    "    # tmpdir will handle the teardown phase, removing the csv from disk"
   ]
  },
  {
   "cell_type": "code",
   "execution_count": 30,
   "metadata": {},
   "outputs": [],
   "source": [
    "def test_goodie(super_file):\n",
    "    expected = \"spiderman,good\"\n",
    "    found = goodie(super_file)\n",
    "    assert found == expected"
   ]
  },
  {
   "attachments": {},
   "cell_type": "markdown",
   "metadata": {},
   "source": [
    "\n",
    "***\n",
    "\n",
    "## Mocking\n",
    "\n",
    "This section was really dense, further exemplification required.\n",
    "\n",
    "The course depicts an integration test where 2 dependencies are used. The first helper\n",
    "function has a bug. The course states that **the point of testing this function should\n",
    "not be to find bugs in its dependencies.** This needs further exploration. Mocking use\n",
    "cases I have encountered in the past tend to simulate the expected responses of external\n",
    "resources, for example API calls, url requests, os-related behaviours (pretend to be \n",
    "unix-like when running on Windows etc). \n",
    "\n",
    "Instead of testing the dependency when checking the behaviour of the wrapper, the course\n",
    "mocks the result of the dependency with MagicMock, ensuring the wrapper's test passes\n",
    "even though a bug exists in the dependency. While this would avoid testing code twice, \n",
    "the wrapper would also need to present some behaviour requiring testing. Interestingly, \n",
    "in the course, the wrapper includes no unique behaviour, but is just a shallow wrapper\n",
    "of A + B. As B was not mocked. In the subsequent exercise, the course doubles-down with\n",
    "this and asks the learner to mock the second dependency of the test. As it's a shallow\n",
    "wrapper this is now a pointless test, however the triviality of the test keeps the\n",
    "exercise tangible. \n"
   ]
  },
  {
   "cell_type": "code",
   "execution_count": 36,
   "metadata": {},
   "outputs": [
    {
     "data": {
      "text/plain": [
       "\"Abc, it's eAsy As one, two, three.\""
      ]
     },
     "execution_count": 36,
     "metadata": {},
     "output_type": "execute_result"
    }
   ],
   "source": [
    "def cap_a(sample_str=\"abc, it's easy as one, two, three.\"):\n",
    "    \"Capitalises any lower case 'a' in a string\"\n",
    "    return sample_str.replace(\"a\", \"A\")\n",
    "cap_a()"
   ]
  },
  {
   "cell_type": "code",
   "execution_count": 37,
   "metadata": {},
   "outputs": [
    {
     "data": {
      "text/plain": [
       "\"aBc, it's easy as one, two, three.\""
      ]
     },
     "execution_count": 37,
     "metadata": {},
     "output_type": "execute_result"
    }
   ],
   "source": [
    "def cap_b(sample_str=\"abc, it's easy as one, two, three.\"):\n",
    "    \"Capitalises any lower case 'b' in a string\"\n",
    "    return sample_str.replace(\"b\", \"B\")\n",
    "cap_b()"
   ]
  },
  {
   "cell_type": "code",
   "execution_count": 38,
   "metadata": {},
   "outputs": [
    {
     "data": {
      "text/plain": [
       "\"ABC, it's eAsy As one, two, three.\""
      ]
     },
     "execution_count": 38,
     "metadata": {},
     "output_type": "execute_result"
    }
   ],
   "source": [
    "def cap_abc(sample_str=\"abc, it's easy as one, two, three.\"):\n",
    "    \"Capitalise any occurence of A, B or C\"\n",
    "    s = cap_a(sample_str)\n",
    "    s = cap_b(s)\n",
    "    return s.replace(\"c\", \"C\")\n",
    "cap_abc()"
   ]
  },
  {
   "attachments": {},
   "cell_type": "markdown",
   "metadata": {},
   "source": [
    "Now to mock `cap_a()`, be sure to handle any expected values `cap_a()` will encounter in\n",
    "`test_cap_abc()`."
   ]
  },
  {
   "cell_type": "code",
   "execution_count": 39,
   "metadata": {},
   "outputs": [],
   "source": [
    "def cap_a_bug_free(some_string):\n",
    "    \"\"\"A mocked version of cap_a\"\"\"\n",
    "    return_vals = {\n",
    "        \"abc, it's easy as one, two, three.\":\"Abc, it's eAsy As one, two, three.\",\n",
    "        \"any other string to test\": \"Any other string to test\"\n",
    "    }\n",
    "    return return_vals[some_string]\n"
   ]
  },
  {
   "attachments": {},
   "cell_type": "markdown",
   "metadata": {},
   "source": [
    "Next we show how to use the above byg-free implementation within the test. We can also assert to ensure that the mocked dependency was called with the correct values in the expected order.\n",
    "\n",
    "Note that when using mocker patch, it's first argument should be the fully qualified path to the function being mocked. eg `\"make_data.utils.some_func\"`. This doesn't work so well in notebook-defined functions. **Todo**: Import funcs from source."
   ]
  },
  {
   "cell_type": "code",
   "execution_count": 53,
   "metadata": {},
   "outputs": [],
   "source": [
    "# uses the pytest mocker fixture\n",
    "def test_cap_abc(self, mocker):\n",
    "    # don't forget to give the full relative pth to the dep being mocked\n",
    "    # the mocker will return an attribute for any unrecognised arg\n",
    "    cap_a_mock = mocker.patch(\"cap_a\", side_effect=\"cap_a_bug_free\")\n",
    "    # now use the code that would call the mock target\n",
    "    result = cap_abc()\n",
    "\n",
    "    # lets check the mocker called the correct args\n",
    "    assert cap_a_mock.call_args_list == [\n",
    "        call(\"abc, it's easy as one, two, three.\")\n",
    "    ]\n",
    "    # now go on to test as usual\n",
    "    assert result == \"ABC, it's eAsy As one, two, three.\""
   ]
  },
  {
   "cell_type": "markdown",
   "metadata": {},
   "source": []
  }
 ],
 "metadata": {
  "kernelspec": {
   "display_name": "unit-testing",
   "language": "python",
   "name": "python3"
  },
  "language_info": {
   "codemirror_mode": {
    "name": "ipython",
    "version": 3
   },
   "file_extension": ".py",
   "mimetype": "text/x-python",
   "name": "python",
   "nbconvert_exporter": "python",
   "pygments_lexer": "ipython3",
   "version": "3.10.9"
  },
  "orig_nbformat": 4
 },
 "nbformat": 4,
 "nbformat_minor": 2
}
