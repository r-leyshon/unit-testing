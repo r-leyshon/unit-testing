{
 "cells": [
  {
   "attachments": {},
   "cell_type": "markdown",
   "metadata": {},
   "source": [
    "# Pytest Best Practice\n",
    "\n",
    "This module covers organising your test suite and some interesting tricks around test\n",
    "suite execution.\n",
    "\n",
    "## Test Suite Organisation\n",
    "\n",
    "The test folder should mirror the structure of the src code folder. Use the same package\n",
    "names etc.\n",
    "\n",
    "Segregation of tests for functions and classes should happen in test classes. For\n",
    "example:  \n",
    "`tree some_package`\n",
    "```\n",
    "/some_package\n",
    "├── src\n",
    "│   ├── foo\n",
    "│   │   ├── foobar1.py\n",
    "│   │   └── foobar2.py\n",
    "│   └── bar\n",
    "│       ├── barfoo1.py\n",
    "│       └── barfoo2.py\n",
    "└── tests\n",
    "    ├── foo\n",
    "    │   ├── test_foobar1.py\n",
    "    │   └── test_foobar2.py\n",
    "    └── bar\n",
    "        ├── test_barfoo1.py\n",
    "        └── test_barfoo2.py\n",
    "\n",
    "\n",
    "\n",
    "```\n",
    "Then let's take a look at the organisation within `tests/foo/test_foobar1.py` \n",
    "\n",
    "The functions to test within that module are defined below."
   ]
  },
  {
   "cell_type": "code",
   "execution_count": 7,
   "metadata": {},
   "outputs": [],
   "source": [
    "def fizz(num):\n",
    "    \"\"\"return fizz if num is cleanly divisible by 3\n",
    "\n",
    "    Args:\n",
    "        num (int): an integer.\n",
    "    \"\"\"\n",
    "    if num % 3 == 0:\n",
    "        return \"fizz\"\n",
    "    else:\n",
    "        return num\n",
    "\n",
    "\n",
    "def buzz(num):\n",
    "    \"\"\"return buzz if num is cleanly divisible by 5\n",
    "\n",
    "    Args:\n",
    "        num (int): an integer\n",
    "    \"\"\"\n",
    "    if num % 5 == 0:\n",
    "        return \"buzz\"\n",
    "    else:\n",
    "        return num"
   ]
  },
  {
   "attachments": {},
   "cell_type": "markdown",
   "metadata": {},
   "source": [
    "Now in the test suite, content of `tests/foo/test_foobar1.py`:"
   ]
  },
  {
   "cell_type": "code",
   "execution_count": 16,
   "metadata": {},
   "outputs": [],
   "source": [
    "class TestFizz(object):\n",
    "    def test_fizz_fizzes(self):\n",
    "        results = list()\n",
    "        ints = [3, 30, 300]\n",
    "        for i in ints:\n",
    "            results.append(fizz(i))\n",
    "        assert all(results) == \"fizz\"\n",
    "\n",
    "\n",
    "class TestFizz(object):\n",
    "    def test_buzz_buzzes(self):\n",
    "        results = list()\n",
    "        ints = [5, 50, 500]\n",
    "        for i in ints:\n",
    "            results.append(buzz(i))\n",
    "        assert all(results) == \"buzz\""
   ]
  },
  {
   "attachments": {},
   "cell_type": "markdown",
   "metadata": {},
   "source": [
    "## Test Suite Execution\n",
    "\n",
    "Some neat tricks to run from the cli for targetted test execution:\n",
    "\n",
    "Run `pytest` to run everything.  \n",
    "\n",
    "Run `pytest -x` to run the suite until the first fail is encountered.\n",
    "\n",
    "To run a specific package test suite:  \n",
    "`pytest foo`\n",
    "\n",
    "To run a specific test module:  \n",
    "`pytest foo/test_foobar1.py`\n",
    "\n",
    "To run a specific test class, use its node ID:  \n",
    "`pytest foo/test_foobar1.py::TestFizz`\n",
    "\n",
    "You can also use the `-k` (keyword flag) to use rules to identify your tests of interest\n",
    ". Be sure to include a quoted string. This is much quicker:\n",
    "`pytest -k \"TestFizz\"`\n",
    "\n",
    "You can also use python syntax to be even more specific:  \n",
    "`pytest -k \"TestFizz and not some_unwanted_test\"`\n"
   ]
  },
  {
   "cell_type": "markdown",
   "metadata": {},
   "source": []
  }
 ],
 "metadata": {
  "kernelspec": {
   "display_name": "unit-testing",
   "language": "python",
   "name": "python3"
  },
  "language_info": {
   "codemirror_mode": {
    "name": "ipython",
    "version": 3
   },
   "file_extension": ".py",
   "mimetype": "text/x-python",
   "name": "python",
   "nbconvert_exporter": "python",
   "pygments_lexer": "ipython3",
   "version": "3.10.9"
  },
  "orig_nbformat": 4
 },
 "nbformat": 4,
 "nbformat_minor": 2
}
