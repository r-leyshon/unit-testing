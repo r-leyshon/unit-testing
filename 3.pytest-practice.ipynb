{
 "cells": [
  {
   "cell_type": "code",
   "execution_count": 19,
   "metadata": {},
   "outputs": [],
   "source": [
    "import pytest\n",
    "import sys"
   ]
  },
  {
   "attachments": {},
   "cell_type": "markdown",
   "metadata": {},
   "source": [
    "# Pytest Best Practice\n",
    "\n",
    "This module covers organising your test suite and some interesting tricks around test\n",
    "suite execution.\n",
    "\n",
    "## Test Suite Organisation\n",
    "\n",
    "The test folder should mirror the structure of the src code folder. Use the same package\n",
    "names etc.\n",
    "\n",
    "Segregation of tests for functions and classes should happen in test classes. For\n",
    "example:  \n",
    "`tree some_package`\n",
    "```\n",
    "/some_package\n",
    "├── src\n",
    "│   ├── foo\n",
    "│   │   ├── foobar1.py\n",
    "│   │   └── foobar2.py\n",
    "│   └── bar\n",
    "│       ├── barfoo1.py\n",
    "│       └── barfoo2.py\n",
    "└── tests\n",
    "    ├── foo\n",
    "    │   ├── test_foobar1.py\n",
    "    │   └── test_foobar2.py\n",
    "    └── bar\n",
    "        ├── test_barfoo1.py\n",
    "        └── test_barfoo2.py\n",
    "\n",
    "\n",
    "\n",
    "```\n",
    "Then let's take a look at the organisation within `tests/foo/test_foobar1.py` \n",
    "\n",
    "The functions to test within that module are defined below."
   ]
  },
  {
   "cell_type": "code",
   "execution_count": 7,
   "metadata": {},
   "outputs": [],
   "source": [
    "def fizz(num):\n",
    "    \"\"\"return fizz if num is cleanly divisible by 3\n",
    "\n",
    "    Args:\n",
    "        num (int): an integer.\n",
    "    \"\"\"\n",
    "    if num % 3 == 0:\n",
    "        return \"fizz\"\n",
    "    else:\n",
    "        return num\n",
    "\n",
    "\n",
    "def buzz(num):\n",
    "    \"\"\"return buzz if num is cleanly divisible by 5\n",
    "\n",
    "    Args:\n",
    "        num (int): an integer\n",
    "    \"\"\"\n",
    "    if num % 5 == 0:\n",
    "        return \"buzz\"\n",
    "    else:\n",
    "        return num"
   ]
  },
  {
   "attachments": {},
   "cell_type": "markdown",
   "metadata": {},
   "source": [
    "Now in the test suite, content of `tests/foo/test_foobar1.py`:"
   ]
  },
  {
   "cell_type": "code",
   "execution_count": 16,
   "metadata": {},
   "outputs": [],
   "source": [
    "class TestFizz(object):\n",
    "    def test_fizz_fizzes(self):\n",
    "        results = list()\n",
    "        ints = [3, 30, 300]\n",
    "        for i in ints:\n",
    "            results.append(fizz(i))\n",
    "        assert all([f == \"fizz\" for f in results])\n",
    "\n",
    "\n",
    "class TestBuzz(object):\n",
    "    def test_buzz_buzzes(self):\n",
    "        results = list()\n",
    "        ints = [5, 50, 500]\n",
    "        for i in ints:\n",
    "            results.append(buzz(i))\n",
    "        assert all([f == \"buzz\" for f in results])"
   ]
  },
  {
   "attachments": {},
   "cell_type": "markdown",
   "metadata": {},
   "source": [
    "## Test Suite Execution\n",
    "\n",
    "Some neat tricks to run from the cli for targetted test execution:\n",
    "\n",
    "Run `pytest` to run everything.  \n",
    "\n",
    "Run `pytest -x` to run the suite until the first fail is encountered.\n",
    "\n",
    "To run a specific package test suite:  \n",
    "`pytest foo`\n",
    "\n",
    "To run a specific test module:  \n",
    "`pytest foo/test_foobar1.py`\n",
    "\n",
    "To run a specific test class, use its node ID:  \n",
    "`pytest foo/test_foobar1.py::TestFizz`\n",
    "\n",
    "You can also use the `-k` (keyword flag) to use rules to identify your tests of interest\n",
    ". Be sure to include a quoted string. This is much quicker:\n",
    "`pytest -k \"TestFizz\"`\n",
    "\n",
    "You can also use python syntax to be even more specific:  \n",
    "`pytest -k \"TestFizz and not some_unwanted_test\"`\n",
    "\n",
    "## Marking Fails\n",
    "\n",
    "Some tests may be expected to fail. These can be silenced with some decorators that\n",
    "make this explicit.\n"
   ]
  },
  {
   "cell_type": "code",
   "execution_count": 18,
   "metadata": {},
   "outputs": [],
   "source": [
    "@pytest.mark.xfail(reason=\"Not yet implemented\")\n",
    "class TestFizzbuzz(object):\n",
    "    def test_fizzbuzz_fizzbuzzes(self):\n",
    "        res = fizzbuzz(15)\n",
    "        assert res == \"fizzbuzz\""
   ]
  },
  {
   "attachments": {},
   "cell_type": "markdown",
   "metadata": {},
   "source": [
    "Running pytest will not report a failure. A good idea to include the following\n",
    "parameters to ensure the reason is implemented:\n",
    "\n",
    "`pytest -r`  \n",
    "This includes reasons. Note, you must **also include the s or x option, see below.**\n",
    "\n",
    "`pytest -rx`  \n",
    "This includes reasons for xfail'ed tests."
   ]
  },
  {
   "attachments": {},
   "cell_type": "markdown",
   "metadata": {},
   "source": [
    "## Marking Skips\n",
    "\n",
    "If you would like to skip tests on certain platforms or python versions, use the skipif\n",
    "decorator."
   ]
  },
  {
   "cell_type": "code",
   "execution_count": 20,
   "metadata": {},
   "outputs": [
    {
     "ename": "SyntaxError",
     "evalue": "Missing parentheses in call to 'print'. Did you mean print(...)? (3965558869.py, line 4)",
     "output_type": "error",
     "traceback": [
      "\u001b[0;36m  Cell \u001b[0;32mIn[20], line 4\u001b[0;36m\u001b[0m\n\u001b[0;31m    print \"Old python syntax\"\u001b[0m\n\u001b[0m    ^\u001b[0m\n\u001b[0;31mSyntaxError\u001b[0m\u001b[0;31m:\u001b[0m Missing parentheses in call to 'print'. Did you mean print(...)?\n"
     ]
    }
   ],
   "source": [
    "# a test that uses deprecated print statement\n",
    "@pytest.mark.skipif(sys.version_info >= (3, 0), reason=\"Only works with python 2\")\n",
    "def test_uses_python2_print():\n",
    "    print \"Old python syntax\"\n",
    "    pass"
   ]
  },
  {
   "attachments": {},
   "cell_type": "markdown",
   "metadata": {},
   "source": [
    "While this causes an error in notebook, it should silently pass in a pytest suite run.\n",
    "Again, print reason with the -r flag. Be specific for skips with:  \n",
    "`pytest -rs`\n",
    "\n",
    "## Continuous Integration\n",
    "\n",
    "The module finishes with a light touch consideration of CI with Travis & Codecov. The\n",
    "Codecov implementation appears to be considerably simpler than that of GitHub Actions but also appears\n",
    "to be a bit outdated. I include the YAML represented in the course that enables test\n",
    "suite execution, coverage report generation and upload to codecov.io:\n",
    "\n",
    "in project root `.travis.yaml`:\n",
    "\n",
    "```\n",
    "language: python\n",
    "python:\n",
    "  - \"3.7\"\n",
    "install:\n",
    "  - pip install -e .\n",
    "  - pip install pytest-cov codecov # dep for codecov\n",
    "script:\n",
    "  - pytest --cov=src tests # need to point to package src\n",
    "after_success:\n",
    "  - codecov # travis will push report to codecov.io\n",
    "\n",
    "```\n",
    "\n",
    "Note the above assumes that travis & codecov have been given access to the repo.\n"
   ]
  },
  {
   "cell_type": "markdown",
   "metadata": {},
   "source": []
  }
 ],
 "metadata": {
  "kernelspec": {
   "display_name": "unit-testing",
   "language": "python",
   "name": "python3"
  },
  "language_info": {
   "codemirror_mode": {
    "name": "ipython",
    "version": 3
   },
   "file_extension": ".py",
   "mimetype": "text/x-python",
   "name": "python",
   "nbconvert_exporter": "python",
   "pygments_lexer": "ipython3",
   "version": "3.10.9"
  },
  "orig_nbformat": 4
 },
 "nbformat": 4,
 "nbformat_minor": 2
}
